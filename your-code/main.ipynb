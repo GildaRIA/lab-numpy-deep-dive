{
 "cells": [
  {
   "cell_type": "code",
   "execution_count": 1,
   "id": "1696f4ab-0721-481e-9604-2b91fd30b122",
   "metadata": {},
   "outputs": [],
   "source": [
    "#1. Import the NUMPY package under the name np.\n",
    "\n",
    "import numpy as np"
   ]
  },
  {
   "cell_type": "code",
   "execution_count": 3,
   "id": "cccabc2a-5587-4256-80ad-852db77ee5f1",
   "metadata": {},
   "outputs": [
    {
     "name": "stdout",
     "output_type": "stream",
     "text": [
      "Numpy Version: 1.21.5\n",
      "Numpy Configuration:\n",
      "blas_mkl_info:\n",
      "    libraries = ['mkl_rt']\n",
      "    library_dirs = ['C:/ANACONDA\\\\Library\\\\lib']\n",
      "    define_macros = [('SCIPY_MKL_H', None), ('HAVE_CBLAS', None)]\n",
      "    include_dirs = ['C:/ANACONDA\\\\Library\\\\include']\n",
      "blas_opt_info:\n",
      "    libraries = ['mkl_rt']\n",
      "    library_dirs = ['C:/ANACONDA\\\\Library\\\\lib']\n",
      "    define_macros = [('SCIPY_MKL_H', None), ('HAVE_CBLAS', None)]\n",
      "    include_dirs = ['C:/ANACONDA\\\\Library\\\\include']\n",
      "lapack_mkl_info:\n",
      "    libraries = ['mkl_rt']\n",
      "    library_dirs = ['C:/ANACONDA\\\\Library\\\\lib']\n",
      "    define_macros = [('SCIPY_MKL_H', None), ('HAVE_CBLAS', None)]\n",
      "    include_dirs = ['C:/ANACONDA\\\\Library\\\\include']\n",
      "lapack_opt_info:\n",
      "    libraries = ['mkl_rt']\n",
      "    library_dirs = ['C:/ANACONDA\\\\Library\\\\lib']\n",
      "    define_macros = [('SCIPY_MKL_H', None), ('HAVE_CBLAS', None)]\n",
      "    include_dirs = ['C:/ANACONDA\\\\Library\\\\include']\n",
      "Supported SIMD extensions in this NumPy install:\n",
      "    baseline = SSE,SSE2,SSE3\n",
      "    found = SSSE3,SSE41,POPCNT,SSE42,AVX\n",
      "    not found = F16C,FMA3,AVX2,AVX512F,AVX512CD,AVX512_SKX,AVX512_CLX,AVX512_CNL\n"
     ]
    }
   ],
   "source": [
    "#2. Print the NUMPY version and the configuration.\n",
    "print(\"Numpy Version:\", np.__version__)\n",
    "print(\"Numpy Configuration:\")\n",
    "np.show_config()"
   ]
  },
  {
   "cell_type": "code",
   "execution_count": 4,
   "id": "415ef8a7-8347-46ec-9792-56d85ec482c4",
   "metadata": {},
   "outputs": [
    {
     "name": "stdout",
     "output_type": "stream",
     "text": [
      "[[[0.26015744 0.67305176 0.93116771 0.2224573  0.25706671]\n",
      "  [0.8331111  0.62592033 0.81572585 0.23120037 0.03364045]\n",
      "  [0.91207502 0.27417193 0.79667205 0.15623792 0.76216763]]\n",
      "\n",
      " [[0.65941125 0.83452626 0.25647604 0.93335975 0.06279051]\n",
      "  [0.67468439 0.07744533 0.32012986 0.57375164 0.13633176]\n",
      "  [0.09294808 0.92302073 0.35460361 0.07305246 0.967641  ]]]\n"
     ]
    }
   ],
   "source": [
    "#3. Generate a 2x3x5 3-dimensional array with random values. Assign the array to variable \"a\"\n",
    "# Challenge: there are at least three easy ways that use numpy to generate random arrays. How many ways can you find?\n",
    "\n",
    "# a = np.random.rand(2, 3, 5)\n",
    "\n",
    "# a = np.random.randn(2, 3, 5)\n",
    "\n",
    "a = np.random.random((2, 3, 5))\n",
    "\n",
    "#4. Print a.\n",
    "\n",
    "print(a)"
   ]
  },
  {
   "cell_type": "code",
   "execution_count": 5,
   "id": "f92f2bac-869c-49a4-b460-f0e264d2550c",
   "metadata": {},
   "outputs": [
    {
     "name": "stdout",
     "output_type": "stream",
     "text": [
      "[[[1. 1. 1.]\n",
      "  [1. 1. 1.]]\n",
      "\n",
      " [[1. 1. 1.]\n",
      "  [1. 1. 1.]]\n",
      "\n",
      " [[1. 1. 1.]\n",
      "  [1. 1. 1.]]\n",
      "\n",
      " [[1. 1. 1.]\n",
      "  [1. 1. 1.]]\n",
      "\n",
      " [[1. 1. 1.]\n",
      "  [1. 1. 1.]]]\n",
      "True\n"
     ]
    }
   ],
   "source": [
    "#5. Create a 5x2x3 3-dimensional array with all values equaling 1.\n",
    "#Assign the array to variable \"b\"\n",
    "\n",
    "b = np.ones((5, 2, 3))\n",
    "\n",
    "\n",
    "#6. Print b.\n",
    "print(b)\n",
    "\n",
    "\n",
    "#7. Do a and b have the same size? How do you prove that in Python code?\n",
    "\n",
    "print(a.size == b.size)"
   ]
  },
  {
   "cell_type": "markdown",
   "id": "6912aef7-669c-40ec-a4c4-51ed40495590",
   "metadata": {},
   "source": [
    "# 8. Are you able to add a and b? Why or why not?\n",
    "# No, we are not able to add a and b because they are not the same shape"
   ]
  },
  {
   "cell_type": "code",
   "execution_count": 7,
   "id": "0fba3d0c-874b-4818-a32e-f4e636b3a87e",
   "metadata": {},
   "outputs": [],
   "source": [
    "#9. Transpose b so that it has the same structure of a (i.e. become a 2x3x5 array). Assign the transposed array to varialbe \"c\".\n",
    "c = np.transpose(b, (1, 2, 0)).reshape(2, 3, 5)"
   ]
  },
  {
   "cell_type": "code",
   "execution_count": 8,
   "id": "ee8c7253-d54d-4bba-8a86-2f8bbef9d69c",
   "metadata": {},
   "outputs": [
    {
     "name": "stdout",
     "output_type": "stream",
     "text": [
      "[[[0.26015744 0.67305176 0.93116771 0.2224573  0.25706671]\n",
      "  [0.8331111  0.62592033 0.81572585 0.23120037 0.03364045]\n",
      "  [0.91207502 0.27417193 0.79667205 0.15623792 0.76216763]]\n",
      "\n",
      " [[0.65941125 0.83452626 0.25647604 0.93335975 0.06279051]\n",
      "  [0.67468439 0.07744533 0.32012986 0.57375164 0.13633176]\n",
      "  [0.09294808 0.92302073 0.35460361 0.07305246 0.967641  ]]]\n",
      "[[[1.26015744 1.67305176 1.93116771 1.2224573  1.25706671]\n",
      "  [1.8331111  1.62592033 1.81572585 1.23120037 1.03364045]\n",
      "  [1.91207502 1.27417193 1.79667205 1.15623792 1.76216763]]\n",
      "\n",
      " [[1.65941125 1.83452626 1.25647604 1.93335975 1.06279051]\n",
      "  [1.67468439 1.07744533 1.32012986 1.57375164 1.13633176]\n",
      "  [1.09294808 1.92302073 1.35460361 1.07305246 1.967641  ]]]\n"
     ]
    }
   ],
   "source": [
    "#10. Try to add a and c. Now it should work. Assign the sum to varialbe \"d\". But why does it work now?\n",
    "# Because they have the same shape\n",
    "d = a + c\n",
    "\n",
    "#11. Print a and d. Notice the difference and relation of the two array in terms of the values? Explain.\n",
    "print(a)\n",
    "print(d)"
   ]
  },
  {
   "cell_type": "code",
   "execution_count": 9,
   "id": "8fe4edba-5923-4ab7-a7d4-a6d40b03f3b4",
   "metadata": {},
   "outputs": [
    {
     "name": "stdout",
     "output_type": "stream",
     "text": [
      "[[[0.26015744 0.67305176 0.93116771 0.2224573  0.25706671]\n",
      "  [0.8331111  0.62592033 0.81572585 0.23120037 0.03364045]\n",
      "  [0.91207502 0.27417193 0.79667205 0.15623792 0.76216763]]\n",
      "\n",
      " [[0.65941125 0.83452626 0.25647604 0.93335975 0.06279051]\n",
      "  [0.67468439 0.07744533 0.32012986 0.57375164 0.13633176]\n",
      "  [0.09294808 0.92302073 0.35460361 0.07305246 0.967641  ]]]\n",
      "[[[0.26015744 0.67305176 0.93116771 0.2224573  0.25706671]\n",
      "  [0.8331111  0.62592033 0.81572585 0.23120037 0.03364045]\n",
      "  [0.91207502 0.27417193 0.79667205 0.15623792 0.76216763]]\n",
      "\n",
      " [[0.65941125 0.83452626 0.25647604 0.93335975 0.06279051]\n",
      "  [0.67468439 0.07744533 0.32012986 0.57375164 0.13633176]\n",
      "  [0.09294808 0.92302073 0.35460361 0.07305246 0.967641  ]]]\n"
     ]
    }
   ],
   "source": [
    "#12. Multiply a and c. Assign the result to e.\n",
    "e = a * c\n",
    "print(a)\n",
    "print(e)"
   ]
  },
  {
   "cell_type": "code",
   "execution_count": 10,
   "id": "1305e68b-9cce-4f3a-95ed-847697d36da7",
   "metadata": {},
   "outputs": [],
   "source": [
    "#14. Identify the max, min, and mean values in d. Assign those values to variables \"d_max\", \"d_min\", and \"d_mean\"\n",
    "\n",
    "d_max = np.max(d)\n",
    "d_min = np.min(d)\n",
    "d_mean = np.mean(d)"
   ]
  },
  {
   "cell_type": "code",
   "execution_count": null,
   "id": "e6982338-60a0-4611-861b-603862131448",
   "metadata": {},
   "outputs": [],
   "source": [
    "#15. Now we want to label the values in d. First create an empty array \"f\" with the same shape (i.e. 2x3x5) as d using `np.empty`.\n",
    "f = np.empty_like(d)\n",
    "\n"
   ]
  },
  {
   "cell_type": "code",
   "execution_count": 11,
   "id": "9d57e576-ec52-471f-a380-3b740af8a82e",
   "metadata": {},
   "outputs": [],
   "source": [
    "#16. Populate the values in f. For each value in d, if it's larger than d_min but smaller than d_mean, assign 25 to the corresponding value in f.\n",
    "f = np.empty_like(d)\n",
    "f[d == d_min] = 0\n",
    "f[d == d_max] = 100\n",
    "f[(d > d_min) & (d < d_mean)] = 25\n",
    "f[(d > d_mean) & (d < d_max)] = 75\n",
    "f[d == d_mean] = 50"
   ]
  },
  {
   "cell_type": "code",
   "execution_count": 12,
   "id": "0eca779e-8445-4414-8b67-f5629304795b",
   "metadata": {},
   "outputs": [
    {
     "name": "stdout",
     "output_type": "stream",
     "text": [
      "[[[1.26015744 1.67305176 1.93116771 1.2224573  1.25706671]\n",
      "  [1.8331111  1.62592033 1.81572585 1.23120037 1.03364045]\n",
      "  [1.91207502 1.27417193 1.79667205 1.15623792 1.76216763]]\n",
      "\n",
      " [[1.65941125 1.83452626 1.25647604 1.93335975 1.06279051]\n",
      "  [1.67468439 1.07744533 1.32012986 1.57375164 1.13633176]\n",
      "  [1.09294808 1.92302073 1.35460361 1.07305246 1.967641  ]]]\n",
      "[[[ 25.  75.  75.  25.  25.]\n",
      "  [ 75.  75.  75.  25.   0.]\n",
      "  [ 75.  25.  75.  25.  75.]]\n",
      "\n",
      " [[ 75.  75.  25.  75.  25.]\n",
      "  [ 75.  25.  25.  75.  25.]\n",
      "  [ 25.  75.  25.  25. 100.]]]\n"
     ]
    }
   ],
   "source": [
    "#17. Print d and f. Do you have your expected f?\n",
    "print(d)\n",
    "print(f)\n",
    "\n",
    "#For instance, if your d is:\n",
    "#array([[[1.85836099, 1.67064465, 1.62576044, 1.40243961, 1.88454931],\n",
    " #       [1.75354326, 1.69403643, 1.36729252, 1.61415071, 1.12104981],\n",
    "  #      [1.72201435, 1.1862918 , 1.87078449, 1.7726778 , 1.88180042]],\n",
    "#\n",
    " #      [[1.44747908, 1.31673383, 1.02000951, 1.52218947, 1.97066381],\n",
    "  #      [1.79129243, 1.74983003, 1.96028037, 1.85166831, 1.65450881],\n",
    "   #     [1.18068344, 1.9587381 , 1.00656599, 1.93402165, 1.73514584]]])\n",
    "\n",
    "#Your f should be:\n",
    "#array([[[ 75.,  75.,  75.,  25.,  75.],\n",
    " #       [ 75.,  75.,  25.,  25.,  25.],\n",
    "  #      [ 75.,  25.,  75.,  75.,  75.]],\n",
    "\n",
    "   #    [[ 25.,  25.,  25.,  25., 100.],\n",
    "    #    [ 75.,  75.,  75.,  75.,  75.],\n",
    "     #   [ 25.,  75.,   0.,  75.,  75.]]])"
   ]
  },
  {
   "cell_type": "code",
   "execution_count": null,
   "id": "f97dff66-832a-41d5-a685-c0f6ba0d667d",
   "metadata": {},
   "outputs": [],
   "source": [
    "#18. Bonus question: instead of using numbers (i.e. 0, 25, 50, 75, and 100), how to use string values \n",
    "(\"A\", \"B\", \"C\", \"D\", and \"E\") to label the array elements? You are expecting the result to be:\n",
    "array([[[ 'D',  'D',  'D',  'B',  'D'],\n",
    "        [ 'D',  'D',  'B',  'B',  'B'],\n",
    "        [ 'D',  'B',  'D',  'D',  'D']],\n",
    "\n",
    "       [[ 'B',  'B',  'B',  'B',  'E'],\n",
    "        [ 'D',  'D',  'D',  'D',  'D'],\n",
    "        [ 'B',  'D',   'A',  'D', 'D']]])\n",
    "Again, you don't need Numpy in this question.\n",
    "\"\"\""
   ]
  }
 ],
 "metadata": {
  "kernelspec": {
   "display_name": "Python 3 (ipykernel)",
   "language": "python",
   "name": "python3"
  },
  "language_info": {
   "codemirror_mode": {
    "name": "ipython",
    "version": 3
   },
   "file_extension": ".py",
   "mimetype": "text/x-python",
   "name": "python",
   "nbconvert_exporter": "python",
   "pygments_lexer": "ipython3",
   "version": "3.9.12"
  }
 },
 "nbformat": 4,
 "nbformat_minor": 5
}
